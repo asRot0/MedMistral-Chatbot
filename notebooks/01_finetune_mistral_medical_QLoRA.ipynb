{
 "cells": [
  {
   "cell_type": "markdown",
   "id": "ffca5c68",
   "metadata": {},
   "source": [
    "# MedMistral — QLoRA Fine-Tuning on ruslanmv/ai-medical-chatbot\n",
    "**Colab/Kaggle-ready** to fine-tune **Mistral-7B-Instruct** with **QLoRA**.\n",
    "\n",
    "> ⚠️ Educational triage guidance only; not medical advice."
   ]
  },
  {
   "cell_type": "code",
   "execution_count": null,
   "id": "18ca0553",
   "metadata": {},
   "outputs": [],
   "source": [
    "# !pip -q install -U transformers peft trl bitsandbytes datasets accelerate sentencepiece"
   ]
  },
  {
   "cell_type": "code",
   "execution_count": null,
   "id": "b24b6f74",
   "metadata": {},
   "outputs": [],
   "source": [
    "\n",
    "import torch, os\n",
    "from datasets import load_dataset\n",
    "from transformers import AutoTokenizer, AutoModelForCausalLM, BitsAndBytesConfig, TrainingArguments\n",
    "from peft import LoraConfig, prepare_model_for_kbit_training, get_peft_model\n",
    "from trl import SFTTrainer\n",
    "from huggingface_hub import login\n",
    "\n",
    "BASE_MODEL_ID = \"mistralai/Mistral-7B-Instruct-v0.1\"\n",
    "DATASET_ID = \"ruslanmv/ai-medical-chatbot\"\n",
    "OUTPUT_DIR = \"../artifacts/lora/medical_chatbot_lora\"\n",
    "\n",
    "os.makedirs(OUTPUT_DIR, exist_ok=True)\n",
    "\n",
    "token = 'HF_token'\n",
    "login(token)"
   ]
  },
  {
   "cell_type": "code",
   "execution_count": null,
   "id": "7cb65f04",
   "metadata": {},
   "outputs": [],
   "source": [
    "\n",
    "ds = load_dataset(DATASET_ID)\n",
    "ds\n"
   ]
  },
  {
   "cell_type": "code",
   "execution_count": null,
   "id": "8261a883",
   "metadata": {},
   "outputs": [],
   "source": [
    "\n",
    "def to_text(ex):\n",
    "    q = ex.get(\"question\") or ex.get(\"input\") or ex.get(\"prompt\") or ex.get(\"query\") or ex.get(\"Patient\") or ex.get(\"user\") or \"\"\n",
    "    a = ex.get(\"answer\") or ex.get(\"output\") or ex.get(\"response\") or ex.get(\"Doctor\") or ex.get(\"assistant\") or \"\"\n",
    "    return {\"text\": f\"<s>[INST] You are a cautious, supportive medical assistant.\\nUser: {str(q).strip()}\\n[/INST]{str(a).strip()}\"}\n",
    "\n",
    "for split in list(ds.keys()):\n",
    "    ds[split] = ds[split].map(to_text)\n",
    "ds['train'][0]['text'][:400]\n"
   ]
  },
  {
   "cell_type": "code",
   "execution_count": null,
   "id": "48ff907d",
   "metadata": {},
   "outputs": [],
   "source": [
    "# QLoRA config\n",
    "bnb_config = BitsAndBytesConfig(\n",
    "    load_in_4bit=True,\n",
    "    bnb_4bit_use_double_quant=True,\n",
    "    bnb_4bit_quant_type=\"nf4\",\n",
    "    bnb_4bit_compute_dtype=torch.bfloat16 if torch.cuda.is_available() else torch.float32,\n",
    ")\n",
    "\n",
    "# Load tokenizer\n",
    "tokenizer = AutoTokenizer.from_pretrained(BASE_MODEL_ID, use_auth_token=token)\n",
    "\n",
    "# Load model\n",
    "model = AutoModelForCausalLM.from_pretrained(BASE_MODEL_ID, quantization_config=bnb_config, device_map=\"auto\", use_auth_token=token)\n",
    "model = prepare_model_for_kbit_training(model)\n",
    "\n",
    "# LoRA config\n",
    "lora_config = LoraConfig(\n",
    "    r=16,\n",
    "    lora_alpha=32,\n",
    "    lora_dropout=0.05,\n",
    "    bias=\"none\",\n",
    "    task_type=\"CAUSAL_LM\",\n",
    "    target_modules=[\"q_proj\",\"k_proj\",\"v_proj\",\"o_proj\",\"gate_proj\",\"up_proj\",\"down_proj\"],\n",
    ")\n",
    "model = get_peft_model(model, lora_config)\n"
   ]
  },
  {
   "cell_type": "code",
   "execution_count": null,
   "id": "832b15b5",
   "metadata": {},
   "outputs": [],
   "source": [
    "\n",
    "training_args = TrainingArguments(\n",
    "    output_dir=OUTPUT_DIR,\n",
    "    per_device_train_batch_size=2,\n",
    "    gradient_accumulation_steps=8,\n",
    "    learning_rate=2e-4,\n",
    "    logging_steps=10,\n",
    "    num_train_epochs=1.0,\n",
    "    fp16=False,\n",
    "    bf16=torch.cuda.is_available(),\n",
    "    optim=\"paged_adamw_32bit\",\n",
    "    lr_scheduler_type=\"cosine\",\n",
    "    warmup_ratio=0.05,\n",
    "    save_steps=200,\n",
    "    save_total_limit=2,\n",
    "    evaluation_strategy=\"steps\",\n",
    "    report_to=\"none\",\n",
    ")\n",
    "trainer = SFTTrainer(\n",
    "    model=model,\n",
    "    tokenizer=tokenizer,\n",
    "    train_dataset=ds.get(\"train\") or ds[list(ds.keys())[0]],\n",
    "    dataset_text_field=\"text\",\n",
    "    peft_config=lora_config,\n",
    "    max_seq_length=1024,\n",
    "    packing=False,\n",
    "    args=training_args,\n",
    ")\n",
    "trainer.train()\n",
    "trainer.model.save_pretrained(OUTPUT_DIR)\n",
    "tokenizer.save_pretrained(OUTPUT_DIR)\n",
    "print(\"Saved LoRA adapters to:\", OUTPUT_DIR)\n"
   ]
  },
  {
   "cell_type": "code",
   "execution_count": null,
   "id": "b55484da",
   "metadata": {},
   "outputs": [],
   "source": [
    "\n",
    "from transformers import pipeline\n",
    "pipe = pipeline(\"text-generation\", model=model, tokenizer=tokenizer)\n",
    "prompt = \"<s>[INST] You are a cautious, supportive medical assistant.\\nUser: I have a fever and sore throat for 2 days.\\n[/INST]\"\n",
    "pipe(prompt, max_new_tokens=200, temperature=0.3, top_p=0.9)[0][\"generated_text\"]\n"
   ]
  }
 ],
 "metadata": {
  "kernelspec": {
   "display_name": "Python 3 (ipykernel)",
   "language": "python",
   "name": "python3"
  },
  "language_info": {
   "codemirror_mode": {
    "name": "ipython",
    "version": 3
   },
   "file_extension": ".py",
   "mimetype": "text/x-python",
   "name": "python",
   "nbconvert_exporter": "python",
   "pygments_lexer": "ipython3",
   "version": "3.9.4"
  }
 },
 "nbformat": 4,
 "nbformat_minor": 5
}
